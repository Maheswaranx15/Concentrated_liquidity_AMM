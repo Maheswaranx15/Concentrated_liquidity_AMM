{
 "cells": [
  {
   "cell_type": "code",
   "execution_count": 6,
   "id": "7143ff02-e948-4618-b414-5ae48c7bb094",
   "metadata": {},
   "outputs": [
    {
     "data": {
      "text/plain": [
       "1924.3134505388955"
      ]
     },
     "execution_count": 6,
     "metadata": {},
     "output_type": "execute_result"
    }
   ],
   "source": [
    "tick = -200697\n",
    "p = 1.0001 ** tick\n",
    "\n",
    "# token 0 = ETH\n",
    "decimals_0 = 1e18\n",
    "# token 1 = USDC\n",
    "decimals_1 = 1e6\n",
    "\n",
    "p * decimals_0 / decimals_1"
   ]
  }
 ],
 "metadata": {
  "kernelspec": {
   "display_name": "Python 3 (ipykernel)",
   "language": "python",
   "name": "python3"
  },
  "language_info": {
   "codemirror_mode": {
    "name": "ipython",
    "version": 3
   },
   "file_extension": ".py",
   "mimetype": "text/x-python",
   "name": "python",
   "nbconvert_exporter": "python",
   "pygments_lexer": "ipython3",
   "version": "3.10.11"
  }
 },
 "nbformat": 4,
 "nbformat_minor": 5
}
