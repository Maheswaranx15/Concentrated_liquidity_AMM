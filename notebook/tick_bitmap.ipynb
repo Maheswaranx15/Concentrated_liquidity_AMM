{
 "cells": [
  {
   "cell_type": "code",
   "execution_count": null,
   "id": "fc836fb7-6bad-4e94-9ee0-a66357d173a6",
   "metadata": {},
   "outputs": [],
   "source": [
    "!pip install bitstring"
   ]
  },
  {
   "cell_type": "code",
   "execution_count": 1,
   "id": "a4215f8f-e68e-4be2-b42b-6c186fa65705",
   "metadata": {},
   "outputs": [
    {
     "name": "stdout",
     "output_type": "stream",
     "text": [
      "-784 7\n",
      "111111001111000000000111 1111110011110000 00000111\n",
      "0000000000000000000000000000000000000000000000000000000000000000000000000000000000000000000000000000000000000000000000000000000000000000000000000000000000000000000000000000000000000000000000000000000000000000000000000000000000000000000000000000000010000000\n"
     ]
    }
   ],
   "source": [
    "from bitstring import Bits\n",
    "\n",
    "# int24\n",
    "tick = -200697\n",
    "tick_spacing = 1\n",
    "\n",
    "# int16\n",
    "word_pos = int(tick) >> 8\n",
    "# uint8\n",
    "bit_pos = int(tick) % 256\n",
    "\n",
    "bits = Bits(int=tick, length=24).bin\n",
    "word_bits = Bits(int=word_pos,length=16).bin\n",
    "pos_bits = Bits(uint=bit_pos, length=8).bin\n",
    "\n",
    "print(word_pos, bit_pos)\n",
    "print(bits, word_bits, pos_bits)\n",
    "\n",
    "mask = 1 << bit_pos\n",
    "mask_bits = Bits(uint=mask, length=256).bin\n",
    "\n",
    "print(mask_bits)"
   ]
  }
 ],
 "metadata": {
  "kernelspec": {
   "display_name": "Python 3 (ipykernel)",
   "language": "python",
   "name": "python3"
  },
  "language_info": {
   "codemirror_mode": {
    "name": "ipython",
    "version": 3
   },
   "file_extension": ".py",
   "mimetype": "text/x-python",
   "name": "python",
   "nbconvert_exporter": "python",
   "pygments_lexer": "ipython3",
   "version": "3.10.11"
  }
 },
 "nbformat": 4,
 "nbformat_minor": 5
}
